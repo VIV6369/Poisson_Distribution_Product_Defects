{
 "cells": [
  {
   "cell_type": "markdown",
   "id": "f852dcd5",
   "metadata": {},
   "source": [
    "***Product Defects***\n",
    "\n",
    "You are in charge of monitoring the number of defective products from a specific factory. You’ve been told that the number of defects on a given day follows the Poisson distribution with the rate parameter (lambda) equal to 7. You’re new here, so you want to get a feel for what it means to follow the Poisson(7) distribution. You remember that the Poisson distribution is special because the rate parameter represents the expected value of the distribution, so in this case, the expected value of the Poisson(7) distribution is 7 defects per day.\n",
    "\n",
    "You will investigate certain attributes of the Poisson(7) distribution to get an intuition for how many defective objects you should expect to see in a given amount of time. You will also practice and apply what you know about the Poisson distribution on a practice data set that you will simulate yourself."
   ]
  },
  {
   "cell_type": "code",
   "execution_count": 1,
   "id": "3302a0dd",
   "metadata": {},
   "outputs": [],
   "source": [
    "import scipy.stats as stats\n",
    "import numpy as np\n",
    "## Task 1: \n",
    "# define expected value (lambda value for poisson distribution)\n",
    "lam = 7"
   ]
  },
  {
   "cell_type": "markdown",
   "id": "2d7248b4",
   "metadata": {},
   "source": [
    "You know that the rate parameter of a Poisson distribution is equal to the expected value. So in our factory, the rate parameter would equal the expected number of defects on a given day. You are curious about how often we might observe the exact expected number of defects.\n",
    "\n",
    "Calculate and print the probability of observing exactly \"lam\" defects on a given day."
   ]
  },
  {
   "cell_type": "code",
   "execution_count": 2,
   "id": "1e806675",
   "metadata": {},
   "outputs": [
    {
     "name": "stdout",
     "output_type": "stream",
     "text": [
      "The probability of observing exactly 7 defects on a given days is 0.149\n"
     ]
    }
   ],
   "source": [
    "print(\"The probability of observing exactly {} defects on a given days is {}\".format(lam, round(stats.poisson.pmf(7,lam),3)))"
   ]
  },
  {
   "cell_type": "markdown",
   "id": "8eef94dd",
   "metadata": {},
   "source": [
    "Our boss said that having 4 or fewer defects on a given day is an exceptionally good day. You are curious about how often that might happen.\n",
    "\n",
    "Calculate and print the probability of having one of these days."
   ]
  },
  {
   "cell_type": "code",
   "execution_count": 3,
   "id": "713e1967",
   "metadata": {},
   "outputs": [
    {
     "name": "stdout",
     "output_type": "stream",
     "text": [
      "The probability of having 4 defects or fewer a day is 0.173\n"
     ]
    }
   ],
   "source": [
    "print(\"The probability of having 4 defects or fewer a day is {}\".format(round(stats.poisson.cdf(4, lam),3)))"
   ]
  },
  {
   "cell_type": "markdown",
   "id": "53b806ff",
   "metadata": {},
   "source": [
    "On the other hand, our boss said that having more than 9 defects on any given day is considered a bad day.\n",
    "\n",
    "Calculate and print the probability of having one of these bad days."
   ]
  },
  {
   "cell_type": "code",
   "execution_count": 4,
   "id": "5ebc6497",
   "metadata": {},
   "outputs": [
    {
     "name": "stdout",
     "output_type": "stream",
     "text": [
      "The probability of having 10 defects or more a day is 0.17\n"
     ]
    }
   ],
   "source": [
    "print(\"The probability of having 10 defects or more a day is {}\".format(round(1 - stats.poisson.cdf(9, lam),3)))"
   ]
  },
  {
   "cell_type": "markdown",
   "id": "0e00883a",
   "metadata": {},
   "source": [
    "You’ve familiarized yourself a little bit about how the Poisson distribution works in theory by calculating different probabilities. But let’s look at what this might look like in practice.\n",
    "\n",
    "Create a variable that has 365 random values from the Poisson distribution (simulated year)."
   ]
  },
  {
   "cell_type": "code",
   "execution_count": 5,
   "id": "1a0218da",
   "metadata": {},
   "outputs": [],
   "source": [
    "year_defects = stats.poisson.rvs(lam, size = 365)"
   ]
  },
  {
   "cell_type": "markdown",
   "id": "f70b28f0",
   "metadata": {},
   "source": [
    "Let’s take a look at our new simulated dataset. Print the first 20 values in this data set."
   ]
  },
  {
   "cell_type": "code",
   "execution_count": 6,
   "id": "13f87413",
   "metadata": {},
   "outputs": [
    {
     "name": "stdout",
     "output_type": "stream",
     "text": [
      "[ 5  8  5  8  8  8  6  6  5  6 10  7  6  8  7  7  7  5 10  5]\n"
     ]
    }
   ],
   "source": [
    "print(year_defects[0:20])"
   ]
  },
  {
   "cell_type": "markdown",
   "id": "88fe9e69",
   "metadata": {},
   "source": [
    "If we expect 7 defects on a given day, what is the total number of defects we would expect over 365 days?\n",
    "\n",
    "Calculate and print this value to the output terminal."
   ]
  },
  {
   "cell_type": "code",
   "execution_count": 7,
   "id": "62f8c894",
   "metadata": {},
   "outputs": [
    {
     "name": "stdout",
     "output_type": "stream",
     "text": [
      "The total number of defects we would expect over 365 days is 2555\n"
     ]
    }
   ],
   "source": [
    "print(\"The total number of defects we would expect over 365 days is {}\".format(lam*365))"
   ]
  },
  {
   "cell_type": "markdown",
   "id": "98cdf039",
   "metadata": {},
   "source": [
    "Calculate and print the total sum of the simulated dataset. How does this compare to the total number of defects we expected over 365 days?"
   ]
  },
  {
   "cell_type": "code",
   "execution_count": 8,
   "id": "94f70fd3",
   "metadata": {},
   "outputs": [
    {
     "name": "stdout",
     "output_type": "stream",
     "text": [
      "The total sum of randomised defects for the year is 2554\n"
     ]
    }
   ],
   "source": [
    "print(\"The total sum of randomised defects for the year is {}\".format(year_defects.sum()))"
   ]
  },
  {
   "cell_type": "markdown",
   "id": "3e8320dc",
   "metadata": {},
   "source": [
    "Calculate and print the average number of defects per day from our simulated dataset.\n",
    "\n",
    "How does this compare to the expected average number of defects each day that we know from the given rate parameter of the Poisson distribution?"
   ]
  },
  {
   "cell_type": "code",
   "execution_count": 9,
   "id": "8325f2a3",
   "metadata": {},
   "outputs": [
    {
     "name": "stdout",
     "output_type": "stream",
     "text": [
      "The average number of defects per day from our randomised defects dataset is 7.0\n"
     ]
    }
   ],
   "source": [
    "print(\"The average number of defects per day from our randomised defects dataset is {}\".format(round(year_defects.mean(),1)))"
   ]
  },
  {
   "cell_type": "markdown",
   "id": "cd9ff993",
   "metadata": {},
   "source": [
    "You’re worried about what the highest amount of defects in a single day might be because that would be a hectic day.\n",
    "\n",
    "Print the maximum value of simulated year."
   ]
  },
  {
   "cell_type": "code",
   "execution_count": 10,
   "id": "99757da4",
   "metadata": {},
   "outputs": [
    {
     "name": "stdout",
     "output_type": "stream",
     "text": [
      "The highest amount of defects in a single day (worst day) from our randomised defects dataset is 15\n"
     ]
    }
   ],
   "source": [
    "worst_day = year_defects.max()\n",
    "print(\"The highest amount of defects in a single day (worst day) from our randomised defects dataset is {}\".format(worst_day))"
   ]
  },
  {
   "cell_type": "markdown",
   "id": "8aa51d5d",
   "metadata": {},
   "source": [
    "It would probably be super busy if there were that many defects on a single day. Hopefully, it is a rare event!\n",
    "\n",
    "Calculate and print the probability of observing that maximum value or more from the Poisson(7) distribution."
   ]
  },
  {
   "cell_type": "code",
   "execution_count": 11,
   "id": "af6ccafc",
   "metadata": {},
   "outputs": [
    {
     "name": "stdout",
     "output_type": "stream",
     "text": [
      "The probability of having highest amount of defects or more in a single day is 0.0024065803473980463\n"
     ]
    }
   ],
   "source": [
    "print(\"The probability of having highest amount of defects or more in a single day is {}\".format(1 - stats.poisson.cdf(worst_day, lam)))"
   ]
  },
  {
   "cell_type": "markdown",
   "id": "31f79996",
   "metadata": {},
   "source": [
    "Let’s say we want to know how many defects in a given day would put us in the 90th percentile of the Poisson(7) distribution. One way we could calculate this is by using the following method:\n",
    "\n",
    "stats.poisson.ppf(percentile, lambda) \n",
    "percentile is equal to the desired percentile (a decimal between 0 and 1), and lambda is the lambda parameter of the Poisson distribution. This function is essentially the inverse of the CDF.\n",
    "\n",
    "Use this method to calculate and print the number of defects that would put us in the 90th percentile for a given day. In other words, on 90% of days, we will observe fewer defects than this number."
   ]
  },
  {
   "cell_type": "code",
   "execution_count": 12,
   "id": "6fdc1c1e",
   "metadata": {},
   "outputs": [
    {
     "name": "stdout",
     "output_type": "stream",
     "text": [
      "The number of defects that would put us in the 90th percentile for a given day is 10.0\n"
     ]
    }
   ],
   "source": [
    "percentile = 0.9\n",
    "xth_per_defects = stats.poisson.ppf(percentile, lam)\n",
    "print(\"The number of defects that would put us in the {}th percentile for a given day is {}\".format(int(percentile*100), xth_per_defects))"
   ]
  },
  {
   "cell_type": "markdown",
   "id": "6af87c96",
   "metadata": {},
   "source": [
    "Now let’s see what proportion of our simulated dataset is greater than or equal to the number we calculated in the previous step.\n",
    "\n",
    "By definition of a percentile, we would expect 1 - .90, or about 10% of days to be in this range.\n",
    "\n",
    "To calculate this:\n",
    "Count the number of values in the dataset that are greater than or equal to the 90th percentile value.\n",
    "Divide this number by the length of the dataset."
   ]
  },
  {
   "cell_type": "code",
   "execution_count": 15,
   "id": "72c5d70b",
   "metadata": {},
   "outputs": [
    {
     "name": "stdout",
     "output_type": "stream",
     "text": [
      "Proportion of our simulated dataset is greater than or equal to the number we calculated using percentile is 16.4\n",
      "This is same number using different calculatinion method 16.4\n"
     ]
    }
   ],
   "source": [
    "counter = 0\n",
    "for i in year_defects:\n",
    "  if i >= xth_per_defects:\n",
    "    counter += 1\n",
    "print(\"Proportion of our simulated dataset is greater than or equal to the number we calculated using percentile is {}\".format(round(counter/len(year_defects)*100,1)))\n",
    "# Simplier way to calculate same proportion \n",
    "print(\"This is same number using different calculatinion method \" + str(round(sum(year_defects >= xth_per_defects)/len(year_defects)*100,1)))"
   ]
  }
 ],
 "metadata": {
  "kernelspec": {
   "display_name": "Python 3 (ipykernel)",
   "language": "python",
   "name": "python3"
  },
  "language_info": {
   "codemirror_mode": {
    "name": "ipython",
    "version": 3
   },
   "file_extension": ".py",
   "mimetype": "text/x-python",
   "name": "python",
   "nbconvert_exporter": "python",
   "pygments_lexer": "ipython3",
   "version": "3.9.7"
  }
 },
 "nbformat": 4,
 "nbformat_minor": 5
}
